{
  "nbformat": 4,
  "nbformat_minor": 0,
  "metadata": {
    "colab": {
      "provenance": []
    },
    "kernelspec": {
      "name": "python3",
      "display_name": "Python 3"
    },
    "language_info": {
      "name": "python"
    }
  },
  "cells": [
    {
      "cell_type": "markdown",
      "source": [
        "#Assignment Questions\n",
        "1)What is NumPy, and why is it widely used in Python?\n",
        "->\n",
        "NumPy, short for Numerical Python, is a fundamental Python library for numerical computing. It provides support for large, multi-dimensional arrays and matrices, along with a collection of high-level mathematical functions to operate on these arrays efficiently.\n",
        "Why is NumPy widely used in Python?\n",
        "Performance and Efficiency:\n",
        "NumPy's core is implemented in C, enabling significantly faster execution of numerical operations compared to standard Python lists. This is particularly crucial when dealing with large datasets and complex mathematical computations.\n",
        "Multidimensional Array Object (ndarray):\n",
        "NumPy introduces the ndarray object, a powerful and efficient data structure for storing and manipulating homogeneous data. This object is optimized for numerical operations and forms the basis for many other scientific computing libraries in Python."
      ],
      "metadata": {
        "id": "tPr8dnbUOjrb"
      }
    },
    {
      "cell_type": "markdown",
      "source": [
        "2)How does broadcasting work in NumPy?\n",
        "->\n",
        "Broadcasting in NumPy describes how arrays of different shapes are treated during arithmetic operations to enable element-wise operations, even when their dimensions do not exactly match. This process allows NumPy to \"stretch\" or \"broadcast\" the smaller array across the larger one to make their shapes compatible without creating explicit copies of the data, leading to efficient computations.\n",
        "\n",
        "The rules governing broadcasting are as follows:\n",
        "Dimension Padding:\n",
        "If arrays have different numbers of dimensions, the array with fewer dimensions has its leading (left) side padded with ones until both arrays have the same number of dimensions.\n",
        "Dimension Compatibility:\n",
        "For each dimension, starting from the trailing (rightmost) dimension, the sizes must either be equal, or one of them must be 1.\n",
        "Dimension Extension:\n",
        "If a dimension's size is 1 for one of the arrays, that array's dimension is conceptually \"stretched\" to match the size of the other array's corresponding dimension. This is done by conceptually repeating the elements along that dimension."
      ],
      "metadata": {
        "id": "mlUinJffOyfr"
      }
    },
    {
      "cell_type": "markdown",
      "source": [
        "3) What is a Pandas DataFrame?\n",
        "->\n",
        "A Pandas DataFrame is a two-dimensional, labeled data structure in Python, provided by the Pandas library. It is designed to store and manipulate tabular data, similar to a spreadsheet, a SQL table, or a data frame in R."
      ],
      "metadata": {
        "id": "HTixEfVgPAia"
      }
    },
    {
      "cell_type": "markdown",
      "source": [
        "4)Explain the use of the groupby() method in Pandas?\n",
        "->The groupby() method in Pandas is a core function used for splitting a DataFrame into groups based on one or more criteria, applying a function to each group independently, and then combining the results into a new DataFrame or Series. This \"split-apply-combine\" strategy is fundamental for data analysis and manipulation."
      ],
      "metadata": {
        "id": "yqrCVNY1PJtI"
      }
    },
    {
      "cell_type": "markdown",
      "source": [
        "5) Why is Seaborn preferred for statistical visualizations?\n",
        "->\n",
        "Seaborn is often preferred for statistical visualizations in Python due to its high-level interface and focus on statistical graphics. Its key advantages include:\n",
        "Ease of Use and Simplified Syntax:\n",
        "Seaborn provides a more intuitive and concise syntax for creating common statistical plots compared to Matplotlib, which it is built upon. This allows users to generate complex visualizations with fewer lines of code.\n",
        "Built-in Statistical Plots:\n",
        "It offers a wide array of specialized plot types designed specifically for statistical analysis, such as violin plots, swarm plots, regression plots, heatmaps, and pair plots, which are not directly available in Matplotlib.\n",
        "Aesthetically Pleasing Defaults:\n",
        "Seaborn comes with attractive default themes and color palettes, producing visually appealing plots right out of the box, reducing the need for extensive manual customization."
      ],
      "metadata": {
        "id": "gICk74zcPTOt"
      }
    },
    {
      "cell_type": "markdown",
      "source": [
        "6)What are the differences between NumPy arrays and Python lists?\n",
        "->\n",
        "Key Differences:\n",
        "Data Type Homogeneity:\n",
        "NumPy arrays are designed to store homogeneous data, meaning all elements within an array must be of the same data type (e.g., all integers, all floats). Python lists, conversely, are heterogeneous and can store elements of different data types within the same list.\n",
        "Performance and Memory Efficiency:\n",
        "NumPy arrays offer significantly better performance for numerical computations, especially with large datasets. This is due to their fixed size, homogeneous data storage in contiguous memory blocks, and optimized C implementations. Python lists, being dynamic and storing references to objects scattered in memory, are less memory-efficient and slower for numerical operations on large datasets.\n",
        "Functionality and Operations:\n",
        "NumPy arrays are optimized for numerical operations and provide a rich set of mathematical functions and vectorized operations (e.g., element-wise addition, multiplication) that can be applied directly to entire arrays without explicit loops. Python lists require explicit looping for element-wise operations and do not inherently support direct arithmetic operations on the entire list.\n",
        "Size and Mutability:\n",
        "Python lists are dynamic in size and can easily grow or shrink as elements are added or removed. NumPy arrays have a fixed size upon creation, and while their elements can be modified, changing the array's size typically involves creating a new array.\n",
        "Multi-dimensionality:\n",
        "NumPy arrays inherently support multi-dimensional data structures (e.g., matrices, tensors) and provide efficient tools for handling and manipulating them. While Python lists can be nested to represent multi-dimensional data, their handling is less intuitive and efficient compared to NumPy arrays for such purposes.\n"
      ],
      "metadata": {
        "id": "bbCEzOHzPjf2"
      }
    },
    {
      "cell_type": "markdown",
      "source": [
        "7)What is a heatmap, and when should it be used?\n",
        "->\n",
        "A heatmap is a visual representation of data where values are depicted using a color scale, making it easy to spot patterns and trends in the data. Heatmaps are used to analyze user behavior on websites, identify usability issues, and improve design. They can also be used in other fields like population studies, manufacturing, and retail to understand spatial patterns and optimize resource allocation.\n"
      ],
      "metadata": {
        "id": "DDsUZYnMPwmh"
      }
    },
    {
      "cell_type": "markdown",
      "source": [
        "8) What does the term “vectorized operation” mean in NumPy?\n",
        "->\n",
        "In NumPy, a \"vectorized operation\" refers to the ability to perform element-wise operations on entire arrays without explicitly writing Python for loops. Instead of iterating through each element of an array and applying an operation one by one, vectorized operations apply the operation to all elements of the array simultaneously."
      ],
      "metadata": {
        "id": "jMbj92fMP8AW"
      }
    },
    {
      "cell_type": "markdown",
      "source": [
        "9)How does Matplotlib differ from Plotly?\n",
        "->\n",
        "Matplotlib and Plotly are both popular Python libraries for data visualization, but they differ significantly in their primary focus and capabilities:\n",
        "Interactivity vs. Static Plots:\n",
        "Matplotlib: Primarily designed for creating static, publication-quality plots. While it offers some interactive features, its strength lies in generating images for reports, papers, and presentations where interactivity is not the main requirement.\n",
        "Plotly: Excels in creating interactive, web-based visualizations. Its plots allow for features like zooming, panning, hovering for details, and toggling data series, making it ideal for exploratory data analysis and interactive dashboards.\n",
        "Customization and Control:\n",
        "Matplotlib: Provides a high degree of control and customization over every element of a plot. This allows for fine-tuning visuals to meet specific design requirements, but it can sometimes require more lines of code.\n",
        "Plotly: Offers a good balance of ease of use and customization. While it might not provide the same granular control as Matplotlib in every aspect, its concise syntax simplifies the creation of visually appealing and interactive plots.\n",
        "Ease of Use:\n",
        "Matplotlib: Can have a steeper learning curve, especially for beginners, due to its comprehensive API and numerous customization options.\n",
        "Plotly: Generally considered more user-friendly and accessible for newcomers, particularly with its plotly.express module, which simplifies the creation of common plot types.\n",
        "Use Cases:\n",
        "Matplotlib: Best suited for generating static figures for academic publications, reports, or situations where precise control over plot aesthetics is paramount.\n",
        "Plotly: Ideal for creating interactive dashboards, web applications, and presentations where user engagement and data exploration are key."
      ],
      "metadata": {
        "id": "llV0kHIfQIRv"
      }
    },
    {
      "cell_type": "markdown",
      "source": [
        "10)What is the significance of hierarchical indexing in Pandas?\n",
        "->\n",
        "Hierarchical indexing, also known as MultiIndex, in pandas is a significant feature that allows for the representation and manipulation of higher-dimensional data within one-dimensional Series and two-dimensional DataFrame objects. Its significance stems from several key advantages:\n",
        "\n",
        "Handling Multi-Dimensional Data:\n",
        "It provides a way to structure data that has multiple levels of categorization or multiple keys, effectively enabling the representation of data that would otherwise require more than two dimensions (like a 3D or 4D array) within the familiar 1D Series or 2D DataFrame structures.\n",
        "Enhanced Data Organization and Readability:\n",
        "MultiIndexes create a natural hierarchy in the data, making it more organized and easier to understand, especially when dealing with complex datasets. This hierarchical structure can visually represent relationships between different levels of data.\n",
        "Efficient Data Selection and Subsetting:\n",
        "Hierarchical indexes enable powerful and efficient data selection and subsetting operations. Users can easily select data based on specific levels of the index or across multiple levels, simplifying complex queries.\n",
        "Facilitating Grouping and Aggregation:\n",
        "MultiIndexes streamline grouping and aggregation operations. Data can be grouped and aggregated based on one or more levels of the hierarchical index, allowing for sophisticated analysis of categorized data without explicit groupby operations in some cases.\n",
        "Preserving Relationships:\n",
        "It inherently preserves the relationships between different levels of data. For example, in a dataset with sales data by region and then by city within each region, the MultiIndex clearly links cities to their respective regions."
      ],
      "metadata": {
        "id": "OM-L6KZ3RFz9"
      }
    },
    {
      "cell_type": "markdown",
      "source": [
        "11)What is the role of Seaborn’s pairplot() function?\n",
        "->\n",
        "Seaborn's pairplot() function is a powerful tool for visualizing relationships within a dataset during exploratory data analysis (EDA). Its primary role is to create a grid of plots that display pairwise relationships between variables and the univariate distribution of each variable.\n",
        "\n",
        "Here's a breakdown of its key functions:\n",
        "\n",
        "Visualizing Pairwise Relationships:\n",
        "It generates a matrix of scatter plots, where each off-diagonal plot shows the relationship between two different variables. This helps in identifying potential correlations, trends, and patterns between pairs of features.\n",
        "Displaying Univariate Distributions:\n",
        "The diagonal plots within the grid show the marginal distribution of each individual variable. By default, this is a histogram, but it can be customized to a Kernel Density Estimate (KDE) or other plot types. This provides insights into the distribution and spread of each feature.\n",
        "Facilitating Exploratory Data Analysis (EDA):\n",
        "pairplot() offers a quick and comprehensive overview of the dataset's structure and relationships. This makes it invaluable for initial data exploration, helping data scientists understand the data's characteristics before building models."
      ],
      "metadata": {
        "id": "_1jdXXDlRfaP"
      }
    },
    {
      "cell_type": "markdown",
      "source": [
        "12)What is the purpose of the describe() function in Pandas?\n",
        "->\n",
        "The describe() function in Pandas is used to generate a statistical summary of a DataFrame or Series. Its primary purpose is to provide a quick overview of the central tendency, dispersion, and shape of the distribution of numerical data, and basic information for object (string) data."
      ],
      "metadata": {
        "id": "VyU_US74Rz4l"
      }
    },
    {
      "cell_type": "markdown",
      "source": [
        "13)Why is handling missing data important in Pandas?\n",
        "->\n",
        "Handling missing data in Pandas is crucial for several reasons, impacting the accuracy and reliability of data analysis and machine learning models:\n",
        "Prevents Errors and Skewed Results:\n",
        "\n",
        "Missing values can lead to errors in calculations, statistical analyses, and data visualizations. For instance, calculating the average of a column with missing values without proper handling will yield an inaccurate result. This can lead to misleading conclusions and flawed decision-making.\n",
        "Ensures Compatibility with Algorithms:\n",
        "Many machine learning algorithms cannot directly process datasets containing missing values. They require complete data to function correctly. Therefore, addressing missing data is a necessary preprocessing step before applying such algorithms.\n",
        "Maintains Data Integrity:\n",
        "Missing data can introduce biases and inaccuracies into a dataset. Handling these missing values appropriately, whether through removal or imputation, helps maintain the integrity of the data and ensures that the analysis reflects the true underlying patterns.\n",
        "Improves Model Performance:\n",
        "For machine learning models, missing data can significantly impact performance. Models trained on incomplete data may produce less accurate predictions and generalize poorly to new, unseen data. Proper handling of missing data can lead to more robust and reliable models."
      ],
      "metadata": {
        "id": "HaiLgwTdSLJg"
      }
    },
    {
      "cell_type": "markdown",
      "source": [
        "14)What are the benefits of using Plotly for data visualization?\n",
        "->\n",
        "Plotly offers several key benefits for data visualization:\n",
        "\n",
        "Interactivity:\n",
        "Plotly's core strength lies in its interactive features. Users can zoom, pan, hover over data points to reveal details, and manipulate charts directly, enabling dynamic data exploration and deeper insights. This distinguishes it from static visualization libraries.\n",
        "Versatility and Wide Range of Chart Types:\n",
        "It supports a comprehensive array of chart types, from basic line and bar charts to complex 3D plots, statistical charts (like box plots and violin plots), heatmaps, and geographic maps, catering to diverse visualization needs.\n",
        "Aesthetic Appeal and Customization:\n",
        "Plotly produces visually appealing charts with high-quality graphics. It offers extensive customization options for styling, colors, fonts, labels, and annotations, allowing users to create highly polished and informative visualizations.\n",
        "Web Integration and Sharing:\n",
        "Plotly visualizations are inherently web-based, making them easy to embed in web applications (e.g., using Dash or Flask) or share as standalone interactive HTML files. This facilitates broader accessibility and collaboration.\n",
        "Ease of Use (especially with Plotly Express):\n",
        "While offering deep customization, Plotly can also be very user-friendly, particularly with Plotly Express, a high-level API that simplifies the creation of complex interactive plots with minimal code, accelerating data exploration."
      ],
      "metadata": {
        "id": "mb__s1sQSydN"
      }
    },
    {
      "cell_type": "markdown",
      "source": [
        "15)How does NumPy handle multidimensional arrays?\n",
        "->\n",
        "\n",
        "NumPy handles multidimensional arrays through its core object, the ndarray. This object represents a homogeneous block of data organized in a multidimensional grid. Here's how it works:\n",
        "\n",
        "Homogeneous Data Storage:\n",
        "All elements within a NumPy array must be of the same data type (e.g., all integers, all floats). This homogeneity allows for efficient memory allocation and optimized operations.\n",
        "Internal 1D Storage:\n",
        "Despite appearing multidimensional, the data within a NumPy array is actually stored contiguously in memory as a single, long 1D array.\n",
        "Shape and Strides for Multidimensional Interpretation:\n",
        "The multidimensional nature of a NumPy array is defined by its shape and strides attributes:\n",
        "Shape: An n-tuple that specifies the size of each dimension (axis). For example, a 2D array (matrix) with 3 rows and 4 columns would have a shape of (3, 4).\n",
        "Strides: A tuple indicating the number of bytes to skip in memory to move to the next element along each dimension. This allows NumPy to efficiently calculate the memory address of any element based on its multidimensional index, without needing to physically rearrange the data for different views (e.g., transposing an array).\n",
        "Efficient Operations:\n",
        "NumPy leverages this internal structure and metadata to perform operations on entire arrays (element-wise or aggregated) much faster than traditional Python loops. This is due to optimized, pre-compiled C or Fortran code that operates directly on the underlying data buffer."
      ],
      "metadata": {
        "id": "rmmHd35oTONS"
      }
    },
    {
      "cell_type": "markdown",
      "source": [
        "16)What is the role of Bokeh in data visualization?\n",
        "->\n",
        "Bokeh is an open-source Python library that serves as a powerful tool for creating interactive data visualizations for modern web browsers. Its primary role in data visualization can be summarized as follows:\n",
        "\n",
        "Interactive Web-Based Visualizations:\n",
        "Bokeh's core strength lies in generating interactive plots, charts, and dashboards that can be viewed and manipulated directly within a web browser. This interactivity allows users to explore data dynamically, pan, zoom, select data points, and trigger actions through widgets like sliders or dropdowns.\n",
        "High-Performance for Large/Streaming Datasets:\n",
        "It is designed to handle large or streaming datasets efficiently, enabling the creation of responsive visualizations even with complex or continuously updating data.\n",
        "Pythonic Workflow:\n",
        "Bokeh provides an intuitive and concise Python API for constructing visualizations, abstracting away the underlying JavaScript and HTML complexities. This allows data scientists and developers to create sophisticated web-based visualizations using familiar Python syntax."
      ],
      "metadata": {
        "id": "Ubbra1X1T2GP"
      }
    },
    {
      "cell_type": "markdown",
      "source": [
        "17)Explain the difference between apply() and map() in Pandas?\n",
        "->\n",
        "In Pandas, both map() and apply() are used to apply functions or transformations to data, but they differ in their scope and primary use cases:\n",
        "\n",
        "1. map():\n",
        "Scope: Exclusively designed for Pandas Series (i.e., a single column of a DataFrame).\n",
        "Purpose: Primarily used for element-wise mapping or substitution of values within a Series. It takes a dictionary, a Series, or a function as an argument to perform the mapping.\n",
        "Example:\n",
        "\n",
        "      import pandas as pd\n",
        "    s = pd.Series([1, 2, 3])\n",
        "    mapped_s = s.map({1: 'one', 2: 'two'}) # Using a dictionary for mapping\n",
        "    # Output:\n",
        "    # 0    one\n",
        "    # 1    two\n",
        "    # 2    NaN\n",
        "    # dtype: object\n",
        "\n",
        "2. apply():\n",
        "\n",
        "Scope: Can be used on both Pandas Series and DataFrames.\n",
        "Purpose: More versatile than map(). When used on a Series, it applies a function to each element. When used on a DataFrame, it can apply a function along either rows (axis=1) or columns (axis=0). This allows for more complex operations involving multiple columns or row-wise calculations.\n",
        "\n",
        "    import pandas as pd\n",
        "    s = pd.Series([1, 2, 3])\n",
        "    applied_s = s.apply(lambda x: x * 2) # Applying a function to each element\n",
        "    # Output:\n",
        "    # 0    2\n",
        "    # 1    4\n",
        "    # 2    6\n",
        "    # dtype: int64"
      ],
      "metadata": {
        "id": "hOJJ4KLUUM6x"
      }
    },
    {
      "cell_type": "markdown",
      "source": [
        "18)What are some advanced features of NumPy?\n",
        "->\n",
        "\n",
        "NumPy offers several advanced features beyond basic array creation and manipulation, significantly enhancing its utility for scientific computing and data analysis:\n",
        "\n",
        "Broadcasting:\n",
        "This mechanism allows NumPy to perform operations on arrays of different shapes and sizes by automatically \"stretching\" the smaller array to match the larger one's dimensions, without explicit data duplication. This simplifies code and improves efficiency.\n",
        "Universal Functions (ufuncs):\n",
        "These are functions that operate element-wise on ndarray objects. They are implemented in C for speed and provide a wide range of mathematical and logical operations, such as np.add(), np.sin(), and np.logical_and().\n",
        "Fancy Indexing and Boolean Masking:\n",
        "These powerful indexing techniques allow for non-contiguous or conditional selection of array elements. Fancy indexing uses arrays of integers to select elements at specific positions, while boolean masking uses boolean arrays to select elements based on a condition."
      ],
      "metadata": {
        "id": "Ny6IBgcCUkQ_"
      }
    },
    {
      "cell_type": "markdown",
      "source": [
        "19) How does Pandas simplify time series analysis?\n",
        "->\n",
        "Pandas simplifies time series analysis through its specialized data structures and functions designed to handle temporal data efficiently. Key aspects of this simplification include:\n",
        "\n",
        "Time-Based Indexing and Selection:\n",
        "Pandas' DatetimeIndex allows for intuitive indexing and selection of data using dates and times.\n",
        "Partial string indexing enables easy selection of data for specific years, months, or even days using concise string formats (e.g., df.loc['2023'], df.loc['2023-05']).\n",
        "Slicing with date strings (e.g., df.loc['2023-01-01':'2023-01-31']) provides a convenient way to select date ranges.\n",
        "Date and Time Manipulation:\n",
        "The to_datetime() function efficiently converts various date/time formats into standardized datetime objects.\n",
        "The .dt accessor provides access to various time-related properties like year, month, day, hour, minute, second, day of the week, etc., for easy extraction and analysis.\n",
        "Functions for handling time zones, time deltas, and date offsets facilitate advanced temporal operations.\n",
        "Resampling and Aggregation:\n",
        "The resample() method allows for changing the frequency of time series data (e.g., from daily to weekly, or hourly to daily).\n",
        "This method can be combined with aggregation functions (e.g., mean(), sum(), median()) to summarize data over different time periods.\n",
        "Rolling Window Operations:\n",
        "The rolling() method enables the calculation of moving averages, moving sums, and other statistics over a defined sliding window.\n",
        "This is crucial for smoothing data, identifying trends, and performing technical analysis.\n",
        "Handling Missing Data:\n",
        "Pandas provides robust methods for handling missing values in time series, such as interpolation, forward fill (ffill()), and backward fill (bfill()), which are particularly useful for time-dependent data."
      ],
      "metadata": {
        "id": "6BH8FXxTUxkv"
      }
    },
    {
      "cell_type": "markdown",
      "source": [
        "20)What is the role of a pivot table in Pandas?\n",
        "->The primary role of a pivot table in Pandas is to summarize and reorganize data from a DataFrame to facilitate analysis and visualization. It allows for the transformation of \"long\" format data into a more concise, \"wide\" format, making it easier to identify patterns, trends, and insights."
      ],
      "metadata": {
        "id": "vgoDNvetVugx"
      }
    },
    {
      "cell_type": "markdown",
      "source": [
        "21)Why is NumPy’s array slicing faster than Python’s list slicing?\n",
        "->\n",
        "NumPy array slicing is significantly faster than Python's list slicing primarily due to how NumPy arrays are designed and implemented:\n",
        "\n",
        "Contiguous Memory Allocation:\n",
        "NumPy arrays store elements of the same data type in contiguous blocks of memory. This allows for efficient data access and manipulation, as the CPU can fetch data in larger chunks (cache lines) and process them more quickly. Python lists, on the other hand, can store elements of different data types, and their elements are not necessarily stored contiguously in memory, leading to more cache misses and slower access.\n",
        "Homogeneous Data Types:\n",
        "NumPy arrays require all elements to be of the same data type. This homogeneity allows NumPy to optimize memory usage and operations, as it doesn't need to store type information for each individual element, unlike Python lists which incur overhead for storing metadata for each object.\n",
        "C-based Implementation and Vectorization:\n",
        "NumPy's core operations, including slicing, are implemented in highly optimized C code. This allows for execution at compiled C speed, significantly faster than Python's interpreted operations. Furthermore, NumPy leverages vectorization, meaning operations are applied to entire arrays or array slices at once, rather than iterating through individual elements in Python loops, which are inherently slower."
      ],
      "metadata": {
        "id": "saEKqez_V3Ui"
      }
    },
    {
      "cell_type": "markdown",
      "source": [
        "22)What are some common use cases for Seaborn?\n",
        "->\n",
        "Seaborn is a Python data visualization library built on Matplotlib, offering a high-level interface for creating informative and attractive statistical graphics. Common use cases for Seaborn include:\n",
        "Exploratory Data Analysis (EDA):\n",
        "Seaborn simplifies the process of understanding data distributions, relationships between variables, and identifying patterns or outliers. This is achieved through plots like histograms, scatter plots, pair plots, and box plots.\n",
        "Statistical Analysis Visualization:\n",
        "It provides functions for visualizing statistical relationships, such as regression plots to show linear relationships and heatmaps for visualizing correlations between variables in a dataset.\n",
        "Visualizing Categorical Data:\n",
        "Seaborn excels at visualizing data with categorical variables using plots like bar plots, count plots, box plots, violin plots, and swarm plots to compare distributions across different categories.\n",
        "Machine Learning Applications:\n",
        "In machine learning workflows, Seaborn is used to visualize model performance (e.g., confusion matrices, ROC curves), feature importance, and to understand data preprocessing steps.\n",
        "Creating Publication-Quality Graphics:\n",
        "Seaborn's default styles and themes are designed to produce aesthetically pleasing visualizations suitable for academic publications, reports, and presentations, requiring minimal customization.\n"
      ],
      "metadata": {
        "id": "rwJloatVWK1a"
      }
    },
    {
      "cell_type": "code",
      "source": [
        "#Practical Questions\n",
        "1)How do you create a 2D NumPy array and calculate the sum of each row\n",
        "\n",
        "To create a **2D NumPy array** and calculate the **sum of each row**, follow these steps:\n",
        "\n",
        "\n",
        "```python\n",
        "import numpy as np\n",
        "\n",
        "# Step 1: Create a 2D NumPy array\n",
        "array = np.array([[1, 2, 3],\n",
        "                  [4, 5, 6],\n",
        "                  [7, 8, 9]])\n",
        "\n",
        "# Step 2: Calculate the sum of each row\n",
        "row_sums = np.sum(array, axis=1)\n",
        "\n",
        "# Print the result\n",
        "print(\"2D Array:\")\n",
        "print(array)\n",
        "print(\"\\nSum of each row:\")\n",
        "print(row_sums)\n",
        "```\n",
        "\n",
        "### 🔍 Explanation:\n",
        "\n",
        "* `np.array(...)` creates the 2D array.\n",
        "* `np.sum(array, axis=1)` computes the sum **across columns**, i.e., sum of each **row**.\n",
        "\n",
        "  * `axis=0` → column-wise sum\n",
        "  * `axis=1` → row-wise sum\n",
        "\n",
        "### 🧾 Output:\n",
        "\n",
        "```\n",
        "2D Array:\n",
        "[[1 2 3]\n",
        " [4 5 6]\n",
        " [7 8 9]]\n",
        "\n",
        "Sum of each row:\n",
        "[ 6 15 24]\n",
        "```\n",
        "\n",
        "\n"
      ],
      "metadata": {
        "id": "lxB38Yw2XXn7"
      },
      "execution_count": null,
      "outputs": []
    },
    {
      "cell_type": "markdown",
      "source": [
        "2) Write a Pandas script to find the mean of a specific column in a DataFrame.\n",
        "->\n"
      ],
      "metadata": {
        "id": "jKLI7bsvXjj_"
      }
    },
    {
      "cell_type": "code",
      "source": [
        "import pandas as pd\n",
        "\n",
        "# Step 1: Create a sample DataFrame\n",
        "data = {\n",
        "    'Name': ['Alice', 'Bob', 'Charlie', 'David'],\n",
        "    'Age': [25, 30, 35, 40],\n",
        "    'Score': [85, 90, 95, 88]\n",
        "}\n",
        "\n",
        "df = pd.DataFrame(data)\n",
        "\n",
        "# Step 2: Calculate the mean of a specific column (e.g., 'Score')\n",
        "mean_score = df['Score'].mean()\n",
        "\n",
        "# Print the result\n",
        "print(\"Mean of the 'Score' column:\", mean_score)\n"
      ],
      "metadata": {
        "colab": {
          "base_uri": "https://localhost:8080/"
        },
        "id": "eH9hpRsWYDcC",
        "outputId": "a6b5d659-61ce-4f14-f46b-c705354d0f45"
      },
      "execution_count": 1,
      "outputs": [
        {
          "output_type": "stream",
          "name": "stdout",
          "text": [
            "Mean of the 'Score' column: 89.5\n"
          ]
        }
      ]
    },
    {
      "cell_type": "code",
      "source": [
        "#Create a scatter plot using Matplotlib\n",
        "\n",
        "import matplotlib.pyplot as plt\n",
        "\n",
        "# Sample data\n",
        "x = [1, 2, 3, 4, 5]\n",
        "y = [10, 12, 8, 14, 7]\n",
        "\n",
        "# Create scatter plot\n",
        "plt.scatter(x, y, color='blue', marker='o', label='Data Points')\n",
        "\n",
        "# Add labels and title\n",
        "plt.xlabel('X Axis')\n",
        "plt.ylabel('Y Axis')\n",
        "plt.title('Sample Scatter Plot')\n",
        "plt.legend()\n",
        "\n",
        "# Show plot\n",
        "plt.show()\n"
      ],
      "metadata": {
        "colab": {
          "base_uri": "https://localhost:8080/",
          "height": 472
        },
        "id": "4TGCoWavYEYF",
        "outputId": "f105a87f-a1e6-4b78-926d-eeca50d474db"
      },
      "execution_count": 2,
      "outputs": [
        {
          "output_type": "display_data",
          "data": {
            "text/plain": [
              "<Figure size 640x480 with 1 Axes>"
            ],
            "image/png": "[encoded data removed]"
          },
          "metadata": {}
        }
      ]
    },
    {
      "cell_type": "code",
      "source": [
        "# How do you calculate the correlation matrix using Seaborn and visualize it with a heatmap.\n",
        "\n",
        "import pandas as pd\n",
        "import seaborn as sns\n",
        "import matplotlib.pyplot as plt\n",
        "\n",
        "# Step 1: Create a sample DataFrame\n",
        "data = {\n",
        "    'Math': [90, 85, 78, 92, 88],\n",
        "    'Science': [80, 89, 84, 91, 76],\n",
        "    'English': [70, 75, 65, 60, 72]\n",
        "}\n",
        "df = pd.DataFrame(data)\n",
        "\n",
        "# Step 2: Calculate the correlation matrix\n",
        "corr_matrix = df.corr()\n",
        "\n",
        "# Step 3: Plot the heatmap\n",
        "plt.figure(figsize=(8, 6))\n",
        "sns.heatmap(corr_matrix, annot=True, cmap='coolwarm', linewidths=0.5)\n",
        "plt.title('Correlation Matrix Heatmap')\n",
        "plt.show()\n"
      ],
      "metadata": {
        "colab": {
          "base_uri": "https://localhost:8080/",
          "height": 545
        },
        "id": "pIhO7sUkYRij",
        "outputId": "6d653f53-bdc7-47f9-92d1-f5f720efde0c"
      },
      "execution_count": 3,
      "outputs": [
        {
          "output_type": "display_data",
          "data": {
            "text/plain": [
              "<Figure size 800x600 with 2 Axes>"
            ],
            "image/png": "[encoded data removed]"
          },
          "metadata": {}
        }
      ]
    },
    {
      "cell_type": "code",
      "source": [
        "#Generate a bar plot using Plotly\n",
        "\n",
        "import plotly.express as px\n",
        "\n",
        "# Sample data\n",
        "data = {\n",
        "    'Fruits': ['Apples', 'Bananas', 'Cherries', 'Dates'],\n",
        "    'Sales': [100, 150, 80, 120]\n",
        "}\n",
        "\n",
        "# Create bar chart\n",
        "fig = px.bar(data, x='Fruits', y='Sales', title='Fruit Sales Bar Chart', color='Fruits')\n",
        "\n",
        "# Show the plot\n",
        "fig.show()\n"
      ],
      "metadata": {
        "colab": {
          "base_uri": "https://localhost:8080/",
          "height": 542
        },
        "id": "zjnw5UlNYcII",
        "outputId": "e1e291de-b64c-4f78-b1cd-f59d523cb71a"
      },
      "execution_count": 4,
      "outputs": [
        {
          "output_type": "display_data",
          "data": {
            "text/html": [
              "<html>\n",
              "<head><meta charset=\"utf-8\" /></head>\n",
              "<body>\n",
              "    <div>            <script src=\"https://cdnjs.cloudflare.com/ajax/libs/mathjax/2.7.5/MathJax.js?config=TeX-AMS-MML_SVG\"></script><script type=\"text/javascript\">if (window.MathJax && window.MathJax.Hub && window.MathJax.Hub.Config) {window.MathJax.Hub.Config({SVG: {font: \"STIX-Web\"}});}</script>                <script type=\"text/javascript\">window.PlotlyConfig = {MathJaxConfig: 'local'};</script>\n",
              "        <script charset=\"utf-8\" src=\"https://cdn.plot.ly/plotly-2.35.2.min.js\"></script>                <div id=\"8d7b2e80-ab18-42ba-b9ac-314e9e648c83\" class=\"plotly-graph-div\" style=\"height:525px; width:100%;\"></div>            <script type=\"text/javascript\">                                    window.PLOTLYENV=window.PLOTLYENV || {};                                    if (document.getElementById(\"8d7b2e80-ab18-42ba-b9ac-314e9e648c83\")) {                    Plotly.newPlot(                        \"8d7b2e80-ab18-42ba-b9ac-314e9e648c83\",                        [{\"alignmentgroup\":\"True\",\"hovertemplate\":\"Fruits=%{x}\\u003cbr\\u003eSales=%{y}\\u003cextra\\u003e\\u003c\\u002fextra\\u003e\",\"legendgroup\":\"Apples\",\"marker\":{\"color\":\"#636efa\",\"pattern\":{\"shape\":\"\"}},\"name\":\"Apples\",\"offsetgroup\":\"Apples\",\"orientation\":\"v\",\"showlegend\":true,\"textposition\":\"auto\",\"x\":[\"Apples\"],\"xaxis\":\"x\",\"y\":[100],\"yaxis\":\"y\",\"type\":\"bar\"},{\"alignmentgroup\":\"True\",\"hovertemplate\":\"Fruits=%{x}\\u003cbr\\u003eSales=%{y}\\u003cextra\\u003e\\u003c\\u002fextra\\u003e\",\"legendgroup\":\"Bananas\",\"marker\":{\"color\":\"#EF553B\",\"pattern\":{\"shape\":\"\"}},\"name\":\"Bananas\",\"offsetgroup\":\"Bananas\",\"orientation\":\"v\",\"showlegend\":true,\"textposition\":\"auto\",\"x\":[\"Bananas\"],\"xaxis\":\"x\",\"y\":[150],\"yaxis\":\"y\",\"type\":\"bar\"},{\"alignmentgroup\":\"True\",\"hovertemplate\":\"Fruits=%{x}\\u003cbr\\u003eSales=%{y}\\u003cextra\\u003e\\u003c\\u002fextra\\u003e\",\"legendgroup\":\"Cherries\",\"marker\":{\"color\":\"#00cc96\",\"pattern\":{\"shape\":\"\"}},\"name\":\"Cherries\",\"offsetgroup\":\"Cherries\",\"orientation\":\"v\",\"showlegend\":true,\"textposition\":\"auto\",\"x\":[\"Cherries\"],\"xaxis\":\"x\",\"y\":[80],\"yaxis\":\"y\",\"type\":\"bar\"},{\"alignmentgroup\":\"True\",\"hovertemplate\":\"Fruits=%{x}\\u003cbr\\u003eSales=%{y}\\u003cextra\\u003e\\u003c\\u002fextra\\u003e\",\"legendgroup\":\"Dates\",\"marker\":{\"color\":\"#ab63fa\",\"pattern\":{\"shape\":\"\"}},\"name\":\"Dates\",\"offsetgroup\":\"Dates\",\"orientation\":\"v\",\"showlegend\":true,\"textposition\":\"auto\",\"x\":[\"Dates\"],\"xaxis\":\"x\",\"y\":[120],\"yaxis\":\"y\",\"type\":\"bar\"}],                        {\"template\":{\"data\":{\"histogram2dcontour\":[{\"type\":\"histogram2dcontour\",\"colorbar\":{\"outlinewidth\":0,\"ticks\":\"\"},\"colorscale\":[[0.0,\"#0d0887\"],[0.1111111111111111,\"#46039f\"],[0.2222222222222222,\"#7201a8\"],[0.3333333333333333,\"#9c179e\"],[0.4444444444444444,\"#bd3786\"],[0.5555555555555556,\"#d8576b\"],[0.6666666666666666,\"#ed7953\"],[0.7777777777777778,\"#fb9f3a\"],[0.8888888888888888,\"#fdca26\"],[1.0,\"#f0f921\"]]}],\"choropleth\":[{\"type\":\"choropleth\",\"colorbar\":{\"outlinewidth\":0,\"ticks\":\"\"}}],\"histogram2d\":[{\"type\":\"histogram2d\",\"colorbar\":{\"outlinewidth\":0,\"ticks\":\"\"},\"colorscale\":[[0.0,\"#0d0887\"],[0.1111111111111111,\"#46039f\"],[0.2222222222222222,\"#7201a8\"],[0.3333333333333333,\"#9c179e\"],[0.4444444444444444,\"#bd3786\"],[0.5555555555555556,\"#d8576b\"],[0.6666666666666666,\"#ed7953\"],[0.7777777777777778,\"#fb9f3a\"],[0.8888888888888888,\"#fdca26\"],[1.0,\"#f0f921\"]]}],\"heatmap\":[{\"type\":\"heatmap\",\"colorbar\":{\"outlinewidth\":0,\"ticks\":\"\"},\"colorscale\":[[0.0,\"#0d0887\"],[0.1111111111111111,\"#46039f\"],[0.2222222222222222,\"#7201a8\"],[0.3333333333333333,\"#9c179e\"],[0.4444444444444444,\"#bd3786\"],[0.5555555555555556,\"#d8576b\"],[0.6666666666666666,\"#ed7953\"],[0.7777777777777778,\"#fb9f3a\"],[0.8888888888888888,\"#fdca26\"],[1.0,\"#f0f921\"]]}],\"heatmapgl\":[{\"type\":\"heatmapgl\",\"colorbar\":{\"outlinewidth\":0,\"ticks\":\"\"},\"colorscale\":[[0.0,\"#0d0887\"],[0.1111111111111111,\"#46039f\"],[0.2222222222222222,\"#7201a8\"],[0.3333333333333333,\"#9c179e\"],[0.4444444444444444,\"#bd3786\"],[0.5555555555555556,\"#d8576b\"],[0.6666666666666666,\"#ed7953\"],[0.7777777777777778,\"#fb9f3a\"],[0.8888888888888888,\"#fdca26\"],[1.0,\"#f0f921\"]]}],\"contourcarpet\":[{\"type\":\"contourcarpet\",\"colorbar\":{\"outlinewidth\":0,\"ticks\":\"\"}}],\"contour\":[{\"type\":\"contour\",\"colorbar\":{\"outlinewidth\":0,\"ticks\":\"\"},\"colorscale\":[[0.0,\"#0d0887\"],[0.1111111111111111,\"#46039f\"],[0.2222222222222222,\"#7201a8\"],[0.3333333333333333,\"#9c179e\"],[0.4444444444444444,\"#bd3786\"],[0.5555555555555556,\"#d8576b\"],[0.6666666666666666,\"#ed7953\"],[0.7777777777777778,\"#fb9f3a\"],[0.8888888888888888,\"#fdca26\"],[1.0,\"#f0f921\"]]}],\"surface\":[{\"type\":\"surface\",\"colorbar\":{\"outlinewidth\":0,\"ticks\":\"\"},\"colorscale\":[[0.0,\"#0d0887\"],[0.1111111111111111,\"#46039f\"],[0.2222222222222222,\"#7201a8\"],[0.3333333333333333,\"#9c179e\"],[0.4444444444444444,\"#bd3786\"],[0.5555555555555556,\"#d8576b\"],[0.6666666666666666,\"#ed7953\"],[0.7777777777777778,\"#fb9f3a\"],[0.8888888888888888,\"#fdca26\"],[1.0,\"#f0f921\"]]}],\"mesh3d\":[{\"type\":\"mesh3d\",\"colorbar\":{\"outlinewidth\":0,\"ticks\":\"\"}}],\"scatter\":[{\"fillpattern\":{\"fillmode\":\"overlay\",\"size\":10,\"solidity\":0.2},\"type\":\"scatter\"}],\"parcoords\":[{\"type\":\"parcoords\",\"line\":{\"colorbar\":{\"outlinewidth\":0,\"ticks\":\"\"}}}],\"scatterpolargl\":[{\"type\":\"scatterpolargl\",\"marker\":{\"colorbar\":{\"outlinewidth\":0,\"ticks\":\"\"}}}],\"bar\":[{\"error_x\":{\"color\":\"#2a3f5f\"},\"error_y\":{\"color\":\"#2a3f5f\"},\"marker\":{\"line\":{\"color\":\"#E5ECF6\",\"width\":0.5},\"pattern\":{\"fillmode\":\"overlay\",\"size\":10,\"solidity\":0.2}},\"type\":\"bar\"}],\"scattergeo\":[{\"type\":\"scattergeo\",\"marker\":{\"colorbar\":{\"outlinewidth\":0,\"ticks\":\"\"}}}],\"scatterpolar\":[{\"type\":\"scatterpolar\",\"marker\":{\"colorbar\":{\"outlinewidth\":0,\"ticks\":\"\"}}}],\"histogram\":[{\"marker\":{\"pattern\":{\"fillmode\":\"overlay\",\"size\":10,\"solidity\":0.2}},\"type\":\"histogram\"}],\"scattergl\":[{\"type\":\"scattergl\",\"marker\":{\"colorbar\":{\"outlinewidth\":0,\"ticks\":\"\"}}}],\"scatter3d\":[{\"type\":\"scatter3d\",\"line\":{\"colorbar\":{\"outlinewidth\":0,\"ticks\":\"\"}},\"marker\":{\"colorbar\":{\"outlinewidth\":0,\"ticks\":\"\"}}}],\"scattermapbox\":[{\"type\":\"scattermapbox\",\"marker\":{\"colorbar\":{\"outlinewidth\":0,\"ticks\":\"\"}}}],\"scatterternary\":[{\"type\":\"scatterternary\",\"marker\":{\"colorbar\":{\"outlinewidth\":0,\"ticks\":\"\"}}}],\"scattercarpet\":[{\"type\":\"scattercarpet\",\"marker\":{\"colorbar\":{\"outlinewidth\":0,\"ticks\":\"\"}}}],\"carpet\":[{\"aaxis\":{\"endlinecolor\":\"#2a3f5f\",\"gridcolor\":\"white\",\"linecolor\":\"white\",\"minorgridcolor\":\"white\",\"startlinecolor\":\"#2a3f5f\"},\"baxis\":{\"endlinecolor\":\"#2a3f5f\",\"gridcolor\":\"white\",\"linecolor\":\"white\",\"minorgridcolor\":\"white\",\"startlinecolor\":\"#2a3f5f\"},\"type\":\"carpet\"}],\"table\":[{\"cells\":{\"fill\":{\"color\":\"#EBF0F8\"},\"line\":{\"color\":\"white\"}},\"header\":{\"fill\":{\"color\":\"#C8D4E3\"},\"line\":{\"color\":\"white\"}},\"type\":\"table\"}],\"barpolar\":[{\"marker\":{\"line\":{\"color\":\"#E5ECF6\",\"width\":0.5},\"pattern\":{\"fillmode\":\"overlay\",\"size\":10,\"solidity\":0.2}},\"type\":\"barpolar\"}],\"pie\":[{\"automargin\":true,\"type\":\"pie\"}]},\"layout\":{\"autotypenumbers\":\"strict\",\"colorway\":[\"#636efa\",\"#EF553B\",\"#00cc96\",\"#ab63fa\",\"#FFA15A\",\"#19d3f3\",\"#FF6692\",\"#B6E880\",\"#FF97FF\",\"#FECB52\"],\"font\":{\"color\":\"#2a3f5f\"},\"hovermode\":\"closest\",\"hoverlabel\":{\"align\":\"left\"},\"paper_bgcolor\":\"white\",\"plot_bgcolor\":\"#E5ECF6\",\"polar\":{\"bgcolor\":\"#E5ECF6\",\"angularaxis\":{\"gridcolor\":\"white\",\"linecolor\":\"white\",\"ticks\":\"\"},\"radialaxis\":{\"gridcolor\":\"white\",\"linecolor\":\"white\",\"ticks\":\"\"}},\"ternary\":{\"bgcolor\":\"#E5ECF6\",\"aaxis\":{\"gridcolor\":\"white\",\"linecolor\":\"white\",\"ticks\":\"\"},\"baxis\":{\"gridcolor\":\"white\",\"linecolor\":\"white\",\"ticks\":\"\"},\"caxis\":{\"gridcolor\":\"white\",\"linecolor\":\"white\",\"ticks\":\"\"}},\"coloraxis\":{\"colorbar\":{\"outlinewidth\":0,\"ticks\":\"\"}},\"colorscale\":{\"sequential\":[[0.0,\"#0d0887\"],[0.1111111111111111,\"#46039f\"],[0.2222222222222222,\"#7201a8\"],[0.3333333333333333,\"#9c179e\"],[0.4444444444444444,\"#bd3786\"],[0.5555555555555556,\"#d8576b\"],[0.6666666666666666,\"#ed7953\"],[0.7777777777777778,\"#fb9f3a\"],[0.8888888888888888,\"#fdca26\"],[1.0,\"#f0f921\"]],\"sequentialminus\":[[0.0,\"#0d0887\"],[0.1111111111111111,\"#46039f\"],[0.2222222222222222,\"#7201a8\"],[0.3333333333333333,\"#9c179e\"],[0.4444444444444444,\"#bd3786\"],[0.5555555555555556,\"#d8576b\"],[0.6666666666666666,\"#ed7953\"],[0.7777777777777778,\"#fb9f3a\"],[0.8888888888888888,\"#fdca26\"],[1.0,\"#f0f921\"]],\"diverging\":[[0,\"#8e0152\"],[0.1,\"#c51b7d\"],[0.2,\"#de77ae\"],[0.3,\"#f1b6da\"],[0.4,\"#fde0ef\"],[0.5,\"#f7f7f7\"],[0.6,\"#e6f5d0\"],[0.7,\"#b8e186\"],[0.8,\"#7fbc41\"],[0.9,\"#4d9221\"],[1,\"#276419\"]]},\"xaxis\":{\"gridcolor\":\"white\",\"linecolor\":\"white\",\"ticks\":\"\",\"title\":{\"standoff\":15},\"zerolinecolor\":\"white\",\"automargin\":true,\"zerolinewidth\":2},\"yaxis\":{\"gridcolor\":\"white\",\"linecolor\":\"white\",\"ticks\":\"\",\"title\":{\"standoff\":15},\"zerolinecolor\":\"white\",\"automargin\":true,\"zerolinewidth\":2},\"scene\":{\"xaxis\":{\"backgroundcolor\":\"#E5ECF6\",\"gridcolor\":\"white\",\"linecolor\":\"white\",\"showbackground\":true,\"ticks\":\"\",\"zerolinecolor\":\"white\",\"gridwidth\":2},\"yaxis\":{\"backgroundcolor\":\"#E5ECF6\",\"gridcolor\":\"white\",\"linecolor\":\"white\",\"showbackground\":true,\"ticks\":\"\",\"zerolinecolor\":\"white\",\"gridwidth\":2},\"zaxis\":{\"backgroundcolor\":\"#E5ECF6\",\"gridcolor\":\"white\",\"linecolor\":\"white\",\"showbackground\":true,\"ticks\":\"\",\"zerolinecolor\":\"white\",\"gridwidth\":2}},\"shapedefaults\":{\"line\":{\"color\":\"#2a3f5f\"}},\"annotationdefaults\":{\"arrowcolor\":\"#2a3f5f\",\"arrowhead\":0,\"arrowwidth\":1},\"geo\":{\"bgcolor\":\"white\",\"landcolor\":\"#E5ECF6\",\"subunitcolor\":\"white\",\"showland\":true,\"showlakes\":true,\"lakecolor\":\"white\"},\"title\":{\"x\":0.05},\"mapbox\":{\"style\":\"light\"}}},\"xaxis\":{\"anchor\":\"y\",\"domain\":[0.0,1.0],\"title\":{\"text\":\"Fruits\"},\"categoryorder\":\"array\",\"categoryarray\":[\"Apples\",\"Bananas\",\"Cherries\",\"Dates\"]},\"yaxis\":{\"anchor\":\"x\",\"domain\":[0.0,1.0],\"title\":{\"text\":\"Sales\"}},\"legend\":{\"title\":{\"text\":\"Fruits\"},\"tracegroupgap\":0},\"title\":{\"text\":\"Fruit Sales Bar Chart\"},\"barmode\":\"relative\"},                        {\"responsive\": true}                    ).then(function(){\n",
              "                            \n",
              "var gd = document.getElementById('8d7b2e80-ab18-42ba-b9ac-314e9e648c83');\n",
              "var x = new MutationObserver(function (mutations, observer) {{\n",
              "        var display = window.getComputedStyle(gd).display;\n",
              "        if (!display || display === 'none') {{\n",
              "            console.log([gd, 'removed!']);\n",
              "            Plotly.purge(gd);\n",
              "            observer.disconnect();\n",
              "        }}\n",
              "}});\n",
              "\n",
              "// Listen for the removal of the full notebook cells\n",
              "var notebookContainer = gd.closest('#notebook-container');\n",
              "if (notebookContainer) {{\n",
              "    x.observe(notebookContainer, {childList: true});\n",
              "}}\n",
              "\n",
              "// Listen for the clearing of the current output cell\n",
              "var outputEl = gd.closest('.output');\n",
              "if (outputEl) {{\n",
              "    x.observe(outputEl, {childList: true});\n",
              "}}\n",
              "\n",
              "                        })                };                            </script>        </div>\n",
              "</body>\n",
              "</html>"
            ]
          },
          "metadata": {}
        }
      ]
    },
    {
      "cell_type": "code",
      "source": [
        "#Create a DataFrame and add a new column based on an existing column\n",
        "\n",
        "import pandas as pd\n",
        "\n",
        "# Step 1: Create a sample DataFrame\n",
        "data = {\n",
        "    'Name': ['Alice', 'Bob', 'Charlie', 'David'],\n",
        "    'Score': [85, 92, 78, 90]\n",
        "}\n",
        "df = pd.DataFrame(data)\n",
        "\n",
        "# Step 2: Add a new column based on the 'Score' column\n",
        "# Let's classify grades as Pass/Fail\n",
        "df['Result'] = df['Score'].apply(lambda x: 'Pass' if x >= 80 else 'Fail')\n",
        "\n",
        "# Print the updated DataFrame\n",
        "print(df)\n"
      ],
      "metadata": {
        "colab": {
          "base_uri": "https://localhost:8080/"
        },
        "id": "zHJwzBFlY1mo",
        "outputId": "e6ab1bab-eefa-4307-8807-ee4db84e93a0"
      },
      "execution_count": 5,
      "outputs": [
        {
          "output_type": "stream",
          "name": "stdout",
          "text": [
            "      Name  Score Result\n",
            "0    Alice     85   Pass\n",
            "1      Bob     92   Pass\n",
            "2  Charlie     78   Fail\n",
            "3    David     90   Pass\n"
          ]
        }
      ]
    },
    {
      "cell_type": "code",
      "source": [
        "#Write a program to perform element-wise multiplication of two NumPy arrays\n",
        "\n",
        "import numpy as np\n",
        "\n",
        "# Step 1: Create two NumPy arrays\n",
        "array1 = np.array([1, 2, 3, 4])\n",
        "array2 = np.array([10, 20, 30, 40])\n",
        "\n",
        "# Step 2: Perform element-wise multiplication\n",
        "result = array1 * array2\n",
        "\n",
        "# Step 3: Print the result\n",
        "print(\"Array 1:\", array1)\n",
        "print(\"Array 2:\", array2)\n",
        "print(\"Element-wise multiplication:\", result)\n"
      ],
      "metadata": {
        "colab": {
          "base_uri": "https://localhost:8080/"
        },
        "id": "lBv3IsnaY958",
        "outputId": "30014399-0958-4efb-d37b-404dbc993ccc"
      },
      "execution_count": 6,
      "outputs": [
        {
          "output_type": "stream",
          "name": "stdout",
          "text": [
            "Array 1: [1 2 3 4]\n",
            "Array 2: [10 20 30 40]\n",
            "Element-wise multiplication: [ 10  40  90 160]\n"
          ]
        }
      ]
    },
    {
      "cell_type": "code",
      "source": [
        "#Create a line plot with multiple lines using Matplotlib\n",
        "\n",
        "import matplotlib.pyplot as plt\n",
        "\n",
        "# Sample data\n",
        "x = [1, 2, 3, 4, 5]\n",
        "y1 = [10, 12, 14, 16, 18]\n",
        "y2 = [8, 10, 12, 14, 16]\n",
        "y3 = [6, 8, 10, 12, 14]\n",
        "\n",
        "# Create line plots\n",
        "plt.plot(x, y1, label='Line 1', color='blue', marker='o')\n",
        "plt.plot(x, y2, label='Line 2', color='green', marker='s')\n",
        "plt.plot(x, y3, label='Line 3', color='red', marker='^')\n",
        "\n",
        "# Add labels and title\n",
        "plt.xlabel('X Axis')\n",
        "plt.ylabel('Y Axis')\n",
        "plt.title('Multiple Line Plot')\n",
        "plt.legend()\n",
        "\n",
        "# Show the plot\n",
        "plt.grid(True)\n",
        "plt.show()\n"
      ],
      "metadata": {
        "colab": {
          "base_uri": "https://localhost:8080/",
          "height": 472
        },
        "id": "q6r9L8_9ZIXA",
        "outputId": "1ba984e5-4297-43a9-f3a9-d6a850b4c616"
      },
      "execution_count": 7,
      "outputs": [
        {
          "output_type": "display_data",
          "data": {
            "text/plain": [
              "<Figure size 640x480 with 1 Axes>"
            ],
            "image/png": "[encoded data removed]"
          },
          "metadata": {}
        }
      ]
    },
    {
      "cell_type": "code",
      "source": [
        "#Generate a Pandas DataFrame and filter rows where a column value is greater than a threshold\n",
        "\n",
        "import pandas as pd\n",
        "\n",
        "# Step 1: Create a sample DataFrame\n",
        "data = {\n",
        "    'Name': ['Alice', 'Bob', 'Charlie', 'David', 'Eva'],\n",
        "    'Age': [23, 35, 18, 42, 29]\n",
        "}\n",
        "df = pd.DataFrame(data)\n",
        "\n",
        "# Step 2: Filter rows where Age > 30\n",
        "filtered_df = df[df['Age'] > 30]\n",
        "\n",
        "# Step 3: Print the filtered DataFrame\n",
        "print(\"Filtered DataFrame (Age > 30):\")\n",
        "print(filtered_df)\n"
      ],
      "metadata": {
        "colab": {
          "base_uri": "https://localhost:8080/"
        },
        "id": "LHY75XzHZQgz",
        "outputId": "1f5c6fd6-06ad-4650-f651-6e64f9be472b"
      },
      "execution_count": 8,
      "outputs": [
        {
          "output_type": "stream",
          "name": "stdout",
          "text": [
            "Filtered DataFrame (Age > 30):\n",
            "    Name  Age\n",
            "1    Bob   35\n",
            "3  David   42\n"
          ]
        }
      ]
    },
    {
      "cell_type": "code",
      "source": [
        "#Create a histogram using Seaborn to visualize a distribution\n",
        "\n",
        "import seaborn as sns\n",
        "import matplotlib.pyplot as plt\n",
        "\n",
        "# Sample data\n",
        "data = [65, 70, 72, 68, 75, 80, 85, 90, 88, 76, 73, 77, 84, 82, 79]\n",
        "\n",
        "# Create histogram\n",
        "sns.histplot(data, bins=8, kde=True, color='skyblue')\n",
        "\n",
        "# Add labels and title\n",
        "plt.xlabel('Scores')\n",
        "plt.ylabel('Frequency')\n",
        "plt.title('Distribution of Scores')\n",
        "\n",
        "# Show plot\n",
        "plt.show()\n"
      ],
      "metadata": {
        "colab": {
          "base_uri": "https://localhost:8080/",
          "height": 472
        },
        "id": "CM2HFYFgZar9",
        "outputId": "1106f99f-346d-42a1-e6e8-543e2688b4f2"
      },
      "execution_count": 9,
      "outputs": [
        {
          "output_type": "display_data",
          "data": {
            "text/plain": [
              "<Figure size 640x480 with 1 Axes>"
            ],
            "image/png": "[encoded data removed]"
          },
          "metadata": {}
        }
      ]
    },
    {
      "cell_type": "code",
      "source": [
        "#Perform matrix multiplication using NumPy\n",
        "\n",
        "import numpy as np\n",
        "\n",
        "# Define two matrices (2x2)\n",
        "A = np.array([[1, 2],\n",
        "              [3, 4]])\n",
        "\n",
        "B = np.array([[5, 6],\n",
        "              [7, 8]])\n",
        "\n",
        "# Method 1: Using @ operator\n",
        "result = A @ B\n",
        "\n",
        "# Method 2: Using np.dot()\n",
        "# result = np.dot(A, B)\n",
        "\n",
        "# Method 3: Using np.matmul()\n",
        "# result = np.matmul(A, B)\n",
        "\n",
        "# Print the result\n",
        "print(\"Matrix A:\")\n",
        "print(A)\n",
        "print(\"\\nMatrix B:\")\n",
        "print(B)\n",
        "print(\"\\nMatrix Multiplication (A * B):\")\n",
        "print(result)\n"
      ],
      "metadata": {
        "colab": {
          "base_uri": "https://localhost:8080/"
        },
        "id": "hctn1yckZi7u",
        "outputId": "c49228f5-6f84-40f8-b262-f99cd34f9cf1"
      },
      "execution_count": 10,
      "outputs": [
        {
          "output_type": "stream",
          "name": "stdout",
          "text": [
            "Matrix A:\n",
            "[[1 2]\n",
            " [3 4]]\n",
            "\n",
            "Matrix B:\n",
            "[[5 6]\n",
            " [7 8]]\n",
            "\n",
            "Matrix Multiplication (A * B):\n",
            "[[19 22]\n",
            " [43 50]]\n"
          ]
        }
      ]
    },
    {
      "cell_type": "code",
      "source": [
        "#Use Pandas to load a CSV file and display its first 5 rows\n",
        "import pandas as pd\n",
        "\n",
        "# Load the CSV file (replace 'your_file.csv' with your actual file path)\n",
        "df = pd.read_csv('your_file.csv')\n",
        "\n",
        "# Display the first 5 rows\n",
        "print(df.head())\n"
      ],
      "metadata": {
        "id": "4lFGXBPFZzbk"
      },
      "execution_count": null,
      "outputs": []
    },
    {
      "cell_type": "code",
      "source": [
        "#Create a 3D scatter plot using Plotly.\n",
        "\n",
        "import plotly.express as px\n",
        "import pandas as pd\n",
        "\n",
        "# Sample 3D data\n",
        "data = {\n",
        "    'X': [1, 2, 3, 4, 5],\n",
        "    'Y': [10, 20, 25, 30, 40],\n",
        "    'Z': [100, 150, 130, 160, 180],\n",
        "    'Category': ['A', 'A', 'B', 'B', 'C']\n",
        "}\n",
        "\n",
        "df = pd.DataFrame(data)\n",
        "\n",
        "# Create 3D scatter plot\n",
        "fig = px.scatter_3d(\n",
        "    df,\n",
        "    x='X',\n",
        "    y='Y',\n",
        "    z='Z',\n",
        "    color='Category',\n",
        "    title='3D Scatter Plot Example'\n",
        ")\n",
        "\n",
        "# Show the plot\n",
        "fig.show()\n"
      ],
      "metadata": {
        "colab": {
          "base_uri": "https://localhost:8080/",
          "height": 542
        },
        "id": "jpo-Q7w9aVhr",
        "outputId": "576a5a9d-9561-4765-911c-8cb98191afe7"
      },
      "execution_count": 12,
      "outputs": [
        {
          "output_type": "display_data",
          "data": {
            "text/html": [
              "<html>\n",
              "<head><meta charset=\"utf-8\" /></head>\n",
              "<body>\n",
              "    <div>            <script src=\"https://cdnjs.cloudflare.com/ajax/libs/mathjax/2.7.5/MathJax.js?config=TeX-AMS-MML_SVG\"></script><script type=\"text/javascript\">if (window.MathJax && window.MathJax.Hub && window.MathJax.Hub.Config) {window.MathJax.Hub.Config({SVG: {font: \"STIX-Web\"}});}</script>                <script type=\"text/javascript\">window.PlotlyConfig = {MathJaxConfig: 'local'};</script>\n",
              "        <script charset=\"utf-8\" src=\"https://cdn.plot.ly/plotly-2.35.2.min.js\"></script>                <div id=\"a7cc5540-f9b7-4f3c-8663-7eed16cb2066\" class=\"plotly-graph-div\" style=\"height:525px; width:100%;\"></div>            <script type=\"text/javascript\">                                    window.PLOTLYENV=window.PLOTLYENV || {};                                    if (document.getElementById(\"a7cc5540-f9b7-4f3c-8663-7eed16cb2066\")) {                    Plotly.newPlot(                        \"a7cc5540-f9b7-4f3c-8663-7eed16cb2066\",                        [{\"hovertemplate\":\"Category=A\\u003cbr\\u003eX=%{x}\\u003cbr\\u003eY=%{y}\\u003cbr\\u003eZ=%{z}\\u003cextra\\u003e\\u003c\\u002fextra\\u003e\",\"legendgroup\":\"A\",\"marker\":{\"color\":\"#636efa\",\"symbol\":\"circle\"},\"mode\":\"markers\",\"name\":\"A\",\"scene\":\"scene\",\"showlegend\":true,\"x\":[1,2],\"y\":[10,20],\"z\":[100,150],\"type\":\"scatter3d\"},{\"hovertemplate\":\"Category=B\\u003cbr\\u003eX=%{x}\\u003cbr\\u003eY=%{y}\\u003cbr\\u003eZ=%{z}\\u003cextra\\u003e\\u003c\\u002fextra\\u003e\",\"legendgroup\":\"B\",\"marker\":{\"color\":\"#EF553B\",\"symbol\":\"circle\"},\"mode\":\"markers\",\"name\":\"B\",\"scene\":\"scene\",\"showlegend\":true,\"x\":[3,4],\"y\":[25,30],\"z\":[130,160],\"type\":\"scatter3d\"},{\"hovertemplate\":\"Category=C\\u003cbr\\u003eX=%{x}\\u003cbr\\u003eY=%{y}\\u003cbr\\u003eZ=%{z}\\u003cextra\\u003e\\u003c\\u002fextra\\u003e\",\"legendgroup\":\"C\",\"marker\":{\"color\":\"#00cc96\",\"symbol\":\"circle\"},\"mode\":\"markers\",\"name\":\"C\",\"scene\":\"scene\",\"showlegend\":true,\"x\":[5],\"y\":[40],\"z\":[180],\"type\":\"scatter3d\"}],                        {\"template\":{\"data\":{\"histogram2dcontour\":[{\"type\":\"histogram2dcontour\",\"colorbar\":{\"outlinewidth\":0,\"ticks\":\"\"},\"colorscale\":[[0.0,\"#0d0887\"],[0.1111111111111111,\"#46039f\"],[0.2222222222222222,\"#7201a8\"],[0.3333333333333333,\"#9c179e\"],[0.4444444444444444,\"#bd3786\"],[0.5555555555555556,\"#d8576b\"],[0.6666666666666666,\"#ed7953\"],[0.7777777777777778,\"#fb9f3a\"],[0.8888888888888888,\"#fdca26\"],[1.0,\"#f0f921\"]]}],\"choropleth\":[{\"type\":\"choropleth\",\"colorbar\":{\"outlinewidth\":0,\"ticks\":\"\"}}],\"histogram2d\":[{\"type\":\"histogram2d\",\"colorbar\":{\"outlinewidth\":0,\"ticks\":\"\"},\"colorscale\":[[0.0,\"#0d0887\"],[0.1111111111111111,\"#46039f\"],[0.2222222222222222,\"#7201a8\"],[0.3333333333333333,\"#9c179e\"],[0.4444444444444444,\"#bd3786\"],[0.5555555555555556,\"#d8576b\"],[0.6666666666666666,\"#ed7953\"],[0.7777777777777778,\"#fb9f3a\"],[0.8888888888888888,\"#fdca26\"],[1.0,\"#f0f921\"]]}],\"heatmap\":[{\"type\":\"heatmap\",\"colorbar\":{\"outlinewidth\":0,\"ticks\":\"\"},\"colorscale\":[[0.0,\"#0d0887\"],[0.1111111111111111,\"#46039f\"],[0.2222222222222222,\"#7201a8\"],[0.3333333333333333,\"#9c179e\"],[0.4444444444444444,\"#bd3786\"],[0.5555555555555556,\"#d8576b\"],[0.6666666666666666,\"#ed7953\"],[0.7777777777777778,\"#fb9f3a\"],[0.8888888888888888,\"#fdca26\"],[1.0,\"#f0f921\"]]}],\"heatmapgl\":[{\"type\":\"heatmapgl\",\"colorbar\":{\"outlinewidth\":0,\"ticks\":\"\"},\"colorscale\":[[0.0,\"#0d0887\"],[0.1111111111111111,\"#46039f\"],[0.2222222222222222,\"#7201a8\"],[0.3333333333333333,\"#9c179e\"],[0.4444444444444444,\"#bd3786\"],[0.5555555555555556,\"#d8576b\"],[0.6666666666666666,\"#ed7953\"],[0.7777777777777778,\"#fb9f3a\"],[0.8888888888888888,\"#fdca26\"],[1.0,\"#f0f921\"]]}],\"contourcarpet\":[{\"type\":\"contourcarpet\",\"colorbar\":{\"outlinewidth\":0,\"ticks\":\"\"}}],\"contour\":[{\"type\":\"contour\",\"colorbar\":{\"outlinewidth\":0,\"ticks\":\"\"},\"colorscale\":[[0.0,\"#0d0887\"],[0.1111111111111111,\"#46039f\"],[0.2222222222222222,\"#7201a8\"],[0.3333333333333333,\"#9c179e\"],[0.4444444444444444,\"#bd3786\"],[0.5555555555555556,\"#d8576b\"],[0.6666666666666666,\"#ed7953\"],[0.7777777777777778,\"#fb9f3a\"],[0.8888888888888888,\"#fdca26\"],[1.0,\"#f0f921\"]]}],\"surface\":[{\"type\":\"surface\",\"colorbar\":{\"outlinewidth\":0,\"ticks\":\"\"},\"colorscale\":[[0.0,\"#0d0887\"],[0.1111111111111111,\"#46039f\"],[0.2222222222222222,\"#7201a8\"],[0.3333333333333333,\"#9c179e\"],[0.4444444444444444,\"#bd3786\"],[0.5555555555555556,\"#d8576b\"],[0.6666666666666666,\"#ed7953\"],[0.7777777777777778,\"#fb9f3a\"],[0.8888888888888888,\"#fdca26\"],[1.0,\"#f0f921\"]]}],\"mesh3d\":[{\"type\":\"mesh3d\",\"colorbar\":{\"outlinewidth\":0,\"ticks\":\"\"}}],\"scatter\":[{\"fillpattern\":{\"fillmode\":\"overlay\",\"size\":10,\"solidity\":0.2},\"type\":\"scatter\"}],\"parcoords\":[{\"type\":\"parcoords\",\"line\":{\"colorbar\":{\"outlinewidth\":0,\"ticks\":\"\"}}}],\"scatterpolargl\":[{\"type\":\"scatterpolargl\",\"marker\":{\"colorbar\":{\"outlinewidth\":0,\"ticks\":\"\"}}}],\"bar\":[{\"error_x\":{\"color\":\"#2a3f5f\"},\"error_y\":{\"color\":\"#2a3f5f\"},\"marker\":{\"line\":{\"color\":\"#E5ECF6\",\"width\":0.5},\"pattern\":{\"fillmode\":\"overlay\",\"size\":10,\"solidity\":0.2}},\"type\":\"bar\"}],\"scattergeo\":[{\"type\":\"scattergeo\",\"marker\":{\"colorbar\":{\"outlinewidth\":0,\"ticks\":\"\"}}}],\"scatterpolar\":[{\"type\":\"scatterpolar\",\"marker\":{\"colorbar\":{\"outlinewidth\":0,\"ticks\":\"\"}}}],\"histogram\":[{\"marker\":{\"pattern\":{\"fillmode\":\"overlay\",\"size\":10,\"solidity\":0.2}},\"type\":\"histogram\"}],\"scattergl\":[{\"type\":\"scattergl\",\"marker\":{\"colorbar\":{\"outlinewidth\":0,\"ticks\":\"\"}}}],\"scatter3d\":[{\"type\":\"scatter3d\",\"line\":{\"colorbar\":{\"outlinewidth\":0,\"ticks\":\"\"}},\"marker\":{\"colorbar\":{\"outlinewidth\":0,\"ticks\":\"\"}}}],\"scattermapbox\":[{\"type\":\"scattermapbox\",\"marker\":{\"colorbar\":{\"outlinewidth\":0,\"ticks\":\"\"}}}],\"scatterternary\":[{\"type\":\"scatterternary\",\"marker\":{\"colorbar\":{\"outlinewidth\":0,\"ticks\":\"\"}}}],\"scattercarpet\":[{\"type\":\"scattercarpet\",\"marker\":{\"colorbar\":{\"outlinewidth\":0,\"ticks\":\"\"}}}],\"carpet\":[{\"aaxis\":{\"endlinecolor\":\"#2a3f5f\",\"gridcolor\":\"white\",\"linecolor\":\"white\",\"minorgridcolor\":\"white\",\"startlinecolor\":\"#2a3f5f\"},\"baxis\":{\"endlinecolor\":\"#2a3f5f\",\"gridcolor\":\"white\",\"linecolor\":\"white\",\"minorgridcolor\":\"white\",\"startlinecolor\":\"#2a3f5f\"},\"type\":\"carpet\"}],\"table\":[{\"cells\":{\"fill\":{\"color\":\"#EBF0F8\"},\"line\":{\"color\":\"white\"}},\"header\":{\"fill\":{\"color\":\"#C8D4E3\"},\"line\":{\"color\":\"white\"}},\"type\":\"table\"}],\"barpolar\":[{\"marker\":{\"line\":{\"color\":\"#E5ECF6\",\"width\":0.5},\"pattern\":{\"fillmode\":\"overlay\",\"size\":10,\"solidity\":0.2}},\"type\":\"barpolar\"}],\"pie\":[{\"automargin\":true,\"type\":\"pie\"}]},\"layout\":{\"autotypenumbers\":\"strict\",\"colorway\":[\"#636efa\",\"#EF553B\",\"#00cc96\",\"#ab63fa\",\"#FFA15A\",\"#19d3f3\",\"#FF6692\",\"#B6E880\",\"#FF97FF\",\"#FECB52\"],\"font\":{\"color\":\"#2a3f5f\"},\"hovermode\":\"closest\",\"hoverlabel\":{\"align\":\"left\"},\"paper_bgcolor\":\"white\",\"plot_bgcolor\":\"#E5ECF6\",\"polar\":{\"bgcolor\":\"#E5ECF6\",\"angularaxis\":{\"gridcolor\":\"white\",\"linecolor\":\"white\",\"ticks\":\"\"},\"radialaxis\":{\"gridcolor\":\"white\",\"linecolor\":\"white\",\"ticks\":\"\"}},\"ternary\":{\"bgcolor\":\"#E5ECF6\",\"aaxis\":{\"gridcolor\":\"white\",\"linecolor\":\"white\",\"ticks\":\"\"},\"baxis\":{\"gridcolor\":\"white\",\"linecolor\":\"white\",\"ticks\":\"\"},\"caxis\":{\"gridcolor\":\"white\",\"linecolor\":\"white\",\"ticks\":\"\"}},\"coloraxis\":{\"colorbar\":{\"outlinewidth\":0,\"ticks\":\"\"}},\"colorscale\":{\"sequential\":[[0.0,\"#0d0887\"],[0.1111111111111111,\"#46039f\"],[0.2222222222222222,\"#7201a8\"],[0.3333333333333333,\"#9c179e\"],[0.4444444444444444,\"#bd3786\"],[0.5555555555555556,\"#d8576b\"],[0.6666666666666666,\"#ed7953\"],[0.7777777777777778,\"#fb9f3a\"],[0.8888888888888888,\"#fdca26\"],[1.0,\"#f0f921\"]],\"sequentialminus\":[[0.0,\"#0d0887\"],[0.1111111111111111,\"#46039f\"],[0.2222222222222222,\"#7201a8\"],[0.3333333333333333,\"#9c179e\"],[0.4444444444444444,\"#bd3786\"],[0.5555555555555556,\"#d8576b\"],[0.6666666666666666,\"#ed7953\"],[0.7777777777777778,\"#fb9f3a\"],[0.8888888888888888,\"#fdca26\"],[1.0,\"#f0f921\"]],\"diverging\":[[0,\"#8e0152\"],[0.1,\"#c51b7d\"],[0.2,\"#de77ae\"],[0.3,\"#f1b6da\"],[0.4,\"#fde0ef\"],[0.5,\"#f7f7f7\"],[0.6,\"#e6f5d0\"],[0.7,\"#b8e186\"],[0.8,\"#7fbc41\"],[0.9,\"#4d9221\"],[1,\"#276419\"]]},\"xaxis\":{\"gridcolor\":\"white\",\"linecolor\":\"white\",\"ticks\":\"\",\"title\":{\"standoff\":15},\"zerolinecolor\":\"white\",\"automargin\":true,\"zerolinewidth\":2},\"yaxis\":{\"gridcolor\":\"white\",\"linecolor\":\"white\",\"ticks\":\"\",\"title\":{\"standoff\":15},\"zerolinecolor\":\"white\",\"automargin\":true,\"zerolinewidth\":2},\"scene\":{\"xaxis\":{\"backgroundcolor\":\"#E5ECF6\",\"gridcolor\":\"white\",\"linecolor\":\"white\",\"showbackground\":true,\"ticks\":\"\",\"zerolinecolor\":\"white\",\"gridwidth\":2},\"yaxis\":{\"backgroundcolor\":\"#E5ECF6\",\"gridcolor\":\"white\",\"linecolor\":\"white\",\"showbackground\":true,\"ticks\":\"\",\"zerolinecolor\":\"white\",\"gridwidth\":2},\"zaxis\":{\"backgroundcolor\":\"#E5ECF6\",\"gridcolor\":\"white\",\"linecolor\":\"white\",\"showbackground\":true,\"ticks\":\"\",\"zerolinecolor\":\"white\",\"gridwidth\":2}},\"shapedefaults\":{\"line\":{\"color\":\"#2a3f5f\"}},\"annotationdefaults\":{\"arrowcolor\":\"#2a3f5f\",\"arrowhead\":0,\"arrowwidth\":1},\"geo\":{\"bgcolor\":\"white\",\"landcolor\":\"#E5ECF6\",\"subunitcolor\":\"white\",\"showland\":true,\"showlakes\":true,\"lakecolor\":\"white\"},\"title\":{\"x\":0.05},\"mapbox\":{\"style\":\"light\"}}},\"scene\":{\"domain\":{\"x\":[0.0,1.0],\"y\":[0.0,1.0]},\"xaxis\":{\"title\":{\"text\":\"X\"}},\"yaxis\":{\"title\":{\"text\":\"Y\"}},\"zaxis\":{\"title\":{\"text\":\"Z\"}}},\"legend\":{\"title\":{\"text\":\"Category\"},\"tracegroupgap\":0},\"title\":{\"text\":\"3D Scatter Plot Example\"}},                        {\"responsive\": true}                    ).then(function(){\n",
              "                            \n",
              "var gd = document.getElementById('a7cc5540-f9b7-4f3c-8663-7eed16cb2066');\n",
              "var x = new MutationObserver(function (mutations, observer) {{\n",
              "        var display = window.getComputedStyle(gd).display;\n",
              "        if (!display || display === 'none') {{\n",
              "            console.log([gd, 'removed!']);\n",
              "            Plotly.purge(gd);\n",
              "            observer.disconnect();\n",
              "        }}\n",
              "}});\n",
              "\n",
              "// Listen for the removal of the full notebook cells\n",
              "var notebookContainer = gd.closest('#notebook-container');\n",
              "if (notebookContainer) {{\n",
              "    x.observe(notebookContainer, {childList: true});\n",
              "}}\n",
              "\n",
              "// Listen for the clearing of the current output cell\n",
              "var outputEl = gd.closest('.output');\n",
              "if (outputEl) {{\n",
              "    x.observe(outputEl, {childList: true});\n",
              "}}\n",
              "\n",
              "                        })                };                            </script>        </div>\n",
              "</body>\n",
              "</html>"
            ]
          },
          "metadata": {}
        }
      ]
    },
    {
      "cell_type": "code",
      "source": [],
      "metadata": {
        "id": "MZXbjHivafds"
      },
      "execution_count": null,
      "outputs": []
    }
  ]
}